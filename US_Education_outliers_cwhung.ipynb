{
 "cells": [
  {
   "cell_type": "code",
   "execution_count": 1,
   "metadata": {},
   "outputs": [],
   "source": [
    "import pandas as pd\n",
    "import numpy as np\n",
    "from sqlalchemy import create_engine\n",
    "import warnings\n",
    "import matplotlib.pyplot as plt\n",
    "import seaborn as sns\n",
    "\n",
    "warnings.filterwarnings('ignore')\n",
    "pd.set_option('display.max_rows', 1000)"
   ]
  },
  {
   "cell_type": "code",
   "execution_count": null,
   "metadata": {},
   "outputs": [],
   "source": [
    "postgres_user = 'dsbc_student'\n",
    "postgres_pw = '7*.8G9QH21'\n",
    "postgres_host = '142.93.121.174'\n",
    "postgres_port = '5432'\n",
    "postgres_db = 'useducation'\n",
    "\n",
    "engine = create_engine('postgresql://{}:{}@{}:{}/{}'.format(postgres_user, postgres_pw, postgres_host, postgres_port, postgres_db))\n",
    "\n",
    "useducation_df = pd.read_sql_query('select * from useducation',con=engine)\n",
    "\n",
    "engine.dispose()\n"
   ]
  },
  {
   "cell_type": "code",
   "execution_count": null,
   "metadata": {},
   "outputs": [],
   "source": [
    "# First look in to the data size\n",
    "useducation_df.shape"
   ]
  },
  {
   "cell_type": "code",
   "execution_count": null,
   "metadata": {},
   "outputs": [],
   "source": [
    "useducation_df.info()"
   ]
  },
  {
   "cell_type": "markdown",
   "metadata": {},
   "source": [
    "**Tasks**\n",
    "1. Consider the two variables: *TOTAL_REVENUE* and *TOTAL_EXPENDITURE*. Do these variables have outlier values?\n",
    "2. If you detect outliers in the *TOTAL_REVENUE* and *TOTAL_EXPENDITURE* variables, apply the techniques you learned in this checkpoint to eliminate them and validate that there's no outlier values after you handled them.\n",
    "3. Create another variable by subtracting the original *TOTAL_EXPENDITURE* from *TOTAL_REVENUE* (before you eliminated the outliers). You can think of it as a kind of budget deficit in education. Do you find any outlier values in this new variable? If so, eliminate them using the technique you think most suitable.\n",
    "4. Now create another variable by subtracting the *TOTAL_EXPENDITURE* from *TOTAL_REVENUE*. This time, use the outlier eliminated versions of *TOTAL_EXPENDITURE* from *TOTAL_REVENUE*. In this newly created variable, can you find any outliers? If so, eliminate them.\n",
    "5. Compare some basic descriptive statistics of the budget variables you end up with in the 3rd and the 4th questions. Do you see any differences?\n",
    "6. If our variable of interest is the budget deficit variable, which method do you think is the appropriate in dealing with the outliers in this variable: the method in the 3rd question or the one in the 4th question?"
   ]
  },
  {
   "cell_type": "code",
   "execution_count": null,
   "metadata": {},
   "outputs": [],
   "source": [
    "# zero revenue in \"STATE_REVENUE\" is missing data\n",
    "useducation_df=useducation_df.replace(0, np.nan)\n",
    "# Replace 'VI', 'U.S._VIRGIN_ISLANDS', as 'VIRGIN_ISLAND'\n",
    "useducation_df=useducation_df.replace({'VI':'VIRGIN_ISLANDS', 'U.S._VIRGIN_ISLANDS':'VIRGIN_ISLANDS', \\\n",
    "                                       'AS': 'AMERICAN_SAMOA', 'BI':'BUREAU_OF_INDIAN_AFFAIRS', \\\n",
    "                                       'BUREAU_OF_INDIAN_EDUCATIO':'BUREAU_OF_INDIAN_AFFAIRS', \\\n",
    "                                       'BUREAU_OF_INDIAN_EDUCATION': 'BUREAU_OF_INDIAN_AFFAIRS', \\\n",
    "                                       'BIE':'BUREAU_OF_INDIAN_AFFAIRS', \\\n",
    "                                       'DD': 'DEPARTMENT_OF_DEFENSE', \\\n",
    "                                       'DEPARTMENT_OF_DEFENSE_EDUCATION_ACTIVITY':'DEPARTMENT_OF_DEFENSE', \\\n",
    "                                       '^DOD.*$':'DEPARTMENT_OF_DEFENSE', \\\n",
    "                                       'GU':'GUAM', 'NORTHERN_MARIANAS':'NORTHERN_MARIANA_ISLANDS', \\\n",
    "                                       'PR':'PUERTO_RICO', 'COMMONWEALTH_OF_MARIANAS':'MARIANAS'})\n",
    "\n",
    "useducation_df.loc[useducation_df['STATE'].str.contains('DOD'),'STATE']='DEPARTMENT_OF_DEFENSE'\n"
   ]
  },
  {
   "cell_type": "code",
   "execution_count": null,
   "metadata": {},
   "outputs": [],
   "source": [
    "# show replications\n",
    "display(useducation_df[useducation_df.PRIMARY_KEY.duplicated(keep='first')])"
   ]
  },
  {
   "cell_type": "code",
   "execution_count": null,
   "metadata": {},
   "outputs": [],
   "source": [
    "# drop replications\n",
    "useducation_df.drop_duplicates(subset='PRIMARY_KEY', inplace= True)"
   ]
  },
  {
   "cell_type": "code",
   "execution_count": null,
   "metadata": {},
   "outputs": [],
   "source": [
    "column_list = ['ENROLL','TOTAL_REVENUE','FEDERAL_REVENUE','STATE_REVENUE','LOCAL_REVENUE','TOTAL_EXPENDITURE', \\\n",
    "               'INSTRUCTION_EXPENDITURE','SUPPORT_SERVICES_EXPENDITURE','OTHER_EXPENDITURE', \\\n",
    "               'CAPITAL_OUTLAY_EXPENDITURE','GRADES_PK_G','GRADES_KG_G','GRADES_4_G','GRADES_8_G', 'GRADES_12_G', \\\n",
    "               'GRADES_1_8_G','GRADES_9_12_G','GRADES_ALL_G', 'AVG_MATH_4_SCORE', 'AVG_MATH_8_SCORE', \\\n",
    "               'AVG_READING_4_SCORE', 'AVG_READING_8_SCORE']\n",
    "\n",
    "useducation3_df=useducation_df.copy()\n",
    "years = useducation3_df.YEAR.unique()\n",
    "\n",
    "\n",
    "\n",
    "for column in column_list:\n",
    "    for year in years:\n",
    "        useducation3_df.loc[useducation3_df.YEAR==year, column].fillna( \\\n",
    "            useducation3_df[useducation3_df.YEAR==year][column].mean(), inplace=True)"
   ]
  },
  {
   "cell_type": "code",
   "execution_count": null,
   "metadata": {},
   "outputs": [],
   "source": [
    "display(useducation3_df)"
   ]
  },
  {
   "cell_type": "code",
   "execution_count": null,
   "metadata": {
    "scrolled": false
   },
   "outputs": [],
   "source": [
    "useducation5_df=useducation3_df.copy()\n",
    "useducation5_df.dropna(axis=0, subset=['TOTAL_REVENUE','TOTAL_EXPENDITURE'], inplace=True)\n",
    "\n",
    "sns.boxplot(useducation5_df['TOTAL_REVENUE'])\n",
    "plt.show()\n",
    "sns.boxplot(useducation5_df['TOTAL_EXPENDITURE'])\n",
    "plt.show()"
   ]
  },
  {
   "cell_type": "code",
   "execution_count": null,
   "metadata": {},
   "outputs": [],
   "source": [
    "# Use z-score to find outliers\n",
    "from scipy.stats import zscore\n",
    "\n",
    "z_scores = zscore(useducation5_df[\"TOTAL_REVENUE\"])\n",
    "for threshold in range(1,5):\n",
    "    print(\"The score threshold is: {}\".format(threshold))\n",
    "    print(\"The indices of the outliers:\")\n",
    "    print(np.where(z_scores > threshold))\n",
    "    print(\"Number of outliers in TOTAL_REVENUE is: {}\\n\".format(len((np.where(z_scores > threshold)[0]))))\n",
    "\n",
    "z_scores = zscore(useducation5_df[\"TOTAL_EXPENDITURE\"])\n",
    "for threshold in range(1,5):\n",
    "    print(\"The score threshold is: {}\".format(threshold))\n",
    "    print(\"The indices of the outliers:\")\n",
    "    print(np.where(z_scores > threshold))\n",
    "    print(\"Number of outliers is in TOTAL_EXPENDITURE: {}\\n\".format(len((np.where(z_scores > threshold)[0]))))\n"
   ]
  },
  {
   "cell_type": "markdown",
   "metadata": {},
   "source": [
    "##### Yes, there are outliers on both 'TOTAL_REVENUE' and 'TOTAL_EXPENDITURE' at the high end."
   ]
  },
  {
   "cell_type": "code",
   "execution_count": null,
   "metadata": {},
   "outputs": [],
   "source": [
    "# Use winsorize to weed out outliers\n",
    "from scipy.stats.mstats import winsorize\n",
    "\n",
    "winsorized_REVENUE = winsorize(useducation5_df[\"TOTAL_REVENUE\"], (0, 0.10))\n",
    "\n",
    "sns.boxplot(winsorized_REVENUE)\n",
    "plt.title('TOTAL_REVENUE')\n",
    "plt.show()\n",
    "\n",
    "winsorized_EXPENDITURE = winsorize(useducation5_df[\"TOTAL_EXPENDITURE\"], (0, 0.10))\n",
    "\n",
    "sns.boxplot(winsorized_EXPENDITURE)\n",
    "plt.title('TOTAL_EXPENDITURE')\n",
    "plt.show()"
   ]
  },
  {
   "cell_type": "markdown",
   "metadata": {},
   "source": [
    "##### No more outliers after we use winsorize to process the data"
   ]
  },
  {
   "cell_type": "code",
   "execution_count": null,
   "metadata": {},
   "outputs": [],
   "source": [
    "# New column budget_deficit = total_revenue-total_expenditure\n",
    "useducation5_df['BUDGET_DEFICIT']=useducation5_df['TOTAL_REVENUE']-useducation5_df['TOTAL_EXPENDITURE']\n",
    "sns.boxplot(useducation5_df['BUDGET_DEFICIT'])\n",
    "plt.show()"
   ]
  },
  {
   "cell_type": "markdown",
   "metadata": {},
   "source": [
    "##### The outliers in 'BUDGET_DEFICIT' are on both ends of the data."
   ]
  },
  {
   "cell_type": "code",
   "execution_count": null,
   "metadata": {},
   "outputs": [],
   "source": [
    "winsorized_BUDGET = winsorize(useducation5_df[\"BUDGET_DEFICIT\"], (0.10, 0.10))\n",
    "\n",
    "sns.boxplot(winsorized_BUDGET)\n",
    "plt.title('BUDGET_DEFICIT')\n",
    "plt.show()"
   ]
  },
  {
   "cell_type": "code",
   "execution_count": null,
   "metadata": {},
   "outputs": [],
   "source": [
    "# Create Budget_decifit2 = winsorized_total_revenue-winsorized_total_expenditure\n",
    "BUDGET_DEFICIT2 = winsorized_REVENUE - winsorized_EXPENDITURE\n",
    "sns.boxplot(BUDGET_DEFICIT2)\n",
    "plt.title('BUDGET_DEFICIT2')\n",
    "plt.show()"
   ]
  },
  {
   "cell_type": "code",
   "execution_count": null,
   "metadata": {},
   "outputs": [],
   "source": [
    "winsorized_BUDGET2 = winsorize(BUDGET_DEFICIT2, (0.10, 0.10))\n",
    "\n",
    "sns.boxplot(winsorized_BUDGET2)\n",
    "plt.title('BUDGET_DEFICIT2')\n",
    "plt.show()"
   ]
  },
  {
   "cell_type": "markdown",
   "metadata": {},
   "source": [
    "##### BUDGET_DEFICIT2 is created from winsorized_TOTAL_REVENUE - winsorized_TOTAL_EXPENDITURE"
   ]
  },
  {
   "cell_type": "code",
   "execution_count": null,
   "metadata": {},
   "outputs": [],
   "source": [
    "# Basic descriptive stats\n",
    "\n",
    "df2=pd.concat([pd.DataFrame(winsorized_BUDGET, columns=['BUDGET']), pd.DataFrame(winsorized_BUDGET2, columns=['BUDGET2'])], axis=1)\n",
    "df2.describe()"
   ]
  },
  {
   "cell_type": "markdown",
   "metadata": {},
   "source": [
    "The two data sets have the same counts.  We can use t-test to see if they are different."
   ]
  },
  {
   "cell_type": "code",
   "execution_count": null,
   "metadata": {},
   "outputs": [],
   "source": [
    "import scipy.stats as stats\n",
    "stats.ttest_ind(winsorized_BUDGET, winsorized_BUDGET2)"
   ]
  },
  {
   "cell_type": "markdown",
   "metadata": {},
   "source": [
    "##### The t-test shows that there is no significant difference between BUDGET and BUDGET2. (p>0.1)  "
   ]
  },
  {
   "cell_type": "markdown",
   "metadata": {},
   "source": [
    "Although there is no significant difference in BUDGET and BUDGET2, it is more desirable to create the variable from original data followed by winsorization.  Therefore, BUDGET is a better choice.  "
   ]
  },
  {
   "cell_type": "code",
   "execution_count": null,
   "metadata": {},
   "outputs": [],
   "source": []
  }
 ],
 "metadata": {
  "kernelspec": {
   "display_name": "Python 3",
   "language": "python",
   "name": "python3"
  },
  "language_info": {
   "codemirror_mode": {
    "name": "ipython",
    "version": 3
   },
   "file_extension": ".py",
   "mimetype": "text/x-python",
   "name": "python",
   "nbconvert_exporter": "python",
   "pygments_lexer": "ipython3",
   "version": "3.7.3"
  },
  "toc": {
   "base_numbering": 1,
   "nav_menu": {},
   "number_sections": true,
   "sideBar": true,
   "skip_h1_title": false,
   "title_cell": "Table of Contents",
   "title_sidebar": "Contents",
   "toc_cell": false,
   "toc_position": {},
   "toc_section_display": true,
   "toc_window_display": false
  }
 },
 "nbformat": 4,
 "nbformat_minor": 2
}
